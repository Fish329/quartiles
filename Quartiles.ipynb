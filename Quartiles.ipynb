{
  "metadata": {
    "kernelspec": {
      "name": "python",
      "display_name": "Python (Pyodide)",
      "language": "python"
    },
    "language_info": {
      "codemirror_mode": {
        "name": "python",
        "version": 3
      },
      "file_extension": ".py",
      "mimetype": "text/x-python",
      "name": "python",
      "nbconvert_exporter": "python",
      "pygments_lexer": "ipython3",
      "version": "3.8"
    }
  },
  "nbformat_minor": 5,
  "nbformat": 4,
  "cells": [
    {
      "id": "a6d105a3-3427-4bdc-903d-8d2a52d232a7",
      "cell_type": "code",
      "source": "import numpy\nimport matplotlib.pyplot as plt\nfrom scipy import stats\nheights=numpy.loadtxt(\"heights.csv\",delimiter=\",\",dtype=float) #I edited the sheet into 2 files for each list\nheights.sort() #sort the lists in ascending order\n#Find Quartiles:\nQ1=numpy.percentile(heights,25)\nQ2=numpy.percentile(heights,50)\nQ3=numpy.percentile(heights,75)\nIQR=Q3-Q1\n#Display quartiles:\nprint(\"Q1 is\",Q1)\nprint(\"Q2 is\",Q2)\nprint(\"Q3 is\",Q3)\nprint(\"Interquartile Range is\",IQR)\n\n#box & whisker plot:\nfig = plt.figure(figsize =(5, 5))\nplt.boxplot(heights, vert=False)\nplt.show()\n\n#find maximum and minimum values:\nmaxi=0 \nmini=float(\"inf\")\nfor i in heights: #go through heights\n    if i>maxi: #if the current height is taller than the last tallest height,\n        maxi=i #replace it\n    if i<mini: #if the current height is shorter than the last shortest height,\n        mini=i #replace it\n#display max & min:\nprint(\"max:\",maxi)\nprint(\"min:\",mini)\n\n#find outliers\nmild=0\nextreme=0\noutliers=[]\nfor i in heights: #go through heights\n    if i<(Q1 - 3*IQR) or i>(Q3 + 3*IQR): #first check if the current height is an extreme outlier\n        extreme=extreme+1\n        outliers.append(float(i)) #if so, add it to the list of outliers\n    elif i<(Q1 - 1.5*IQR) or i>(Q3 + 1.5*IQR): #if not, check if it's a mild one\n       mild=mild+1 \n       outliers.append(float(i))\ninliers=(len(heights)-mild)-extreme #calculate number of inliers\n#display outliers/inliers totals:\nprint(\"Number of mild outliers:\",mild)\nprint(\"Number of extreme outliers:\",extreme)\nprint(\"Number of inliers:\",inliers)\n#Ask user to display list\nfull=input(\"Input X to view a comprehensive list of all outliers, mild and extreme. Input anything else to exit.\")\nif full==\"X\" or full==\"x\":\n    print(\"Here you go:\")\n    print(outliers)",
      "metadata": {
        "trusted": true
      },
      "outputs": [
        {
          "name": "stdout",
          "output_type": "stream",
          "text": "Q1 is 66.7043975\nQ2 is 67.9957\nQ3 is 69.2729575\nInterquartile Range is 2.568560000000005\n"
        },
        {
          "output_type": "display_data",
          "data": {
            "text/plain": "<Figure size 500x500 with 1 Axes>",
            "image/png": "[encoded data removed]"
          },
          "metadata": {}
        },
        {
          "name": "stdout",
          "output_type": "stream",
          "text": "max: 75.1528\nmin: 60.27836\nNumber of mild outliers: 167\nNumber of extreme outliers: 0\nNumber of inliers: 24833\n"
        },
        {
          "output_type": "stream",
          "name": "stdin",
          "text": "Input X to view a comprehensive list of all outliers, mild and extreme. Input anything else to exit. x\n"
        },
        {
          "name": "stdout",
          "output_type": "stream",
          "text": "Here you go:\n[60.27836, 60.61265, 60.8062, 60.8634, 60.86977, 61.30021, 61.4055, 61.5772, 61.59011, 61.827, 61.8934, 61.90725, 61.92639, 61.93152, 62.01666, 62.05222, 62.23548, 62.26498, 62.29058, 62.34907, 62.35553, 62.37478, 62.37781, 62.38539, 62.398, 62.40403, 62.40921, 62.42388, 62.44899, 62.44964, 62.48237, 62.48643, 62.48689, 62.48941, 62.50167, 62.50449, 62.50806, 62.51831, 62.52373, 62.52876, 62.53019, 62.53035, 62.53614, 62.54756, 62.55787, 62.57176, 62.57873, 62.58703, 62.59583, 62.60367, 62.60611, 62.61388, 62.62398, 62.63031, 62.63566, 62.64242, 62.64956, 62.6568, 62.66094, 62.66611, 62.6732, 62.67446, 62.67467, 62.6775, 62.681, 62.6827, 62.68591, 62.70318, 62.70761, 62.72779, 62.73218, 62.73809, 62.74696, 62.75039, 62.75187, 62.77861, 62.78196, 62.8062, 62.84458, 73.12686, 73.12757, 73.13491, 73.15071, 73.16001, 73.16304, 73.1771, 73.18256, 73.18845, 73.192, 73.19268, 73.19305, 73.1971, 73.22072, 73.22107, 73.23153, 73.24733, 73.25176, 73.25271, 73.25534, 73.25816, 73.26872, 73.2731, 73.27528, 73.28207, 73.29095, 73.32067, 73.32701, 73.33584, 73.35034, 73.35404, 73.36407, 73.38057, 73.38109, 73.38719, 73.38937, 73.40755, 73.40972, 73.45251, 73.45384, 73.46216, 73.47464, 73.47519, 73.51383, 73.52131, 73.55566, 73.55973, 73.57982, 73.58262, 73.58866, 73.59392, 73.62336, 73.62592, 73.6454, 73.6704, 73.72628, 73.75335, 73.81695, 73.83364, 73.85521, 73.88318, 73.88574, 73.90107, 73.95409, 73.95494, 73.99549, 74.01942, 74.03777, 74.04804, 74.05895, 74.16797, 74.19488, 74.19842, 74.24899, 74.25069, 74.2727, 74.28376, 74.2957, 74.36328, 74.42744, 74.47517, 74.51784, 74.53177, 74.59993, 74.74047, 74.8489, 75.11519, 75.1528]\n"
        }
      ],
      "execution_count": 3
    },
    {
      "id": "326dd80d-b83b-4496-b43f-2658b3121ef9",
      "cell_type": "code",
      "source": "",
      "metadata": {
        "trusted": true
      },
      "outputs": [],
      "execution_count": null
    }
  ]
}